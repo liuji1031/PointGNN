{
 "cells": [
  {
   "cell_type": "code",
   "execution_count": 7,
   "metadata": {},
   "outputs": [],
   "source": [
    "%load_ext autoreload\n",
    "%autoreload 2"
   ]
  },
  {
   "cell_type": "code",
   "execution_count": null,
   "metadata": {},
   "outputs": [],
   "source": [
    "import numpy as np"
   ]
  },
  {
   "cell_type": "code",
   "execution_count": 31,
   "metadata": {},
   "outputs": [
    {
     "name": "stdout",
     "output_type": "stream",
     "text": [
      "[[ 0.   -0.35 -0.4 ]\n",
      " [ 0.   -0.35  0.45]\n",
      " [ 0.    0.75 -0.2 ]\n",
      " [ 0.    0.75  0.55]]\n"
     ]
    }
   ],
   "source": [
    "# test voxel downsample\n",
    "from voxelization import VoxelDownsample\n",
    "\n",
    "vd = VoxelDownsample(x_range=[-1, 1], y_range=[-1, 1], z_range=[-1, 1], \n",
    "                     voxel_size={\"x\":1,\"y\":1,\"z\":1})\n",
    "\n",
    "pc = np.array([[-0.2,-0.3,0.],\n",
    "               [-0.6,-0.4,0],\n",
    "               [-0.3,0.7,0],\n",
    "               [-0.1,0.8,0],\n",
    "               [0.5,0.6,0],\n",
    "               [0.6,0.9,0],\n",
    "               [0.8,-0.3,0.],\n",
    "               [0.1,-0.4,0]])\n",
    "\n",
    "out = vd(pc)\n",
    "print(out)\n"
   ]
  },
  {
   "cell_type": "code",
   "execution_count": 18,
   "metadata": {},
   "outputs": [
    {
     "name": "stdout",
     "output_type": "stream",
     "text": [
      "{'GNNLayers': [{'name': 'GNN_layer_1', 'mlp_h': {'dim_lst': [64, 64], 'activation': 'relu', 'output_activation': 'none'}, 'mlp_f': {'feat_dim': 32, 'hidden_dim_lst': [32, 32], 'activation': 'relu', 'output_activation': 'none'}, 'mlp_g': {'dim_lst': [64, 64], 'activation': 'relu', 'output_activation': 'none'}}, {'name': 'GNN_layer_2', 'mlp_h': {'dim_lst': [64, 64], 'activation': 'relu', 'output_activation': 'none'}, 'mlp_f': {'feat_dim': 32, 'hidden_dim_lst': [32, 32], 'activation': 'relu', 'output_activation': 'none'}, 'mlp_g': {'dim_lst': [64, 64], 'activation': 'relu', 'output_activation': 'none'}}], 'nuscenes': {'num_classes': 3, 'class_mappings': {'vehicle': ['car', 'truck', 'bendy bus', 'rigid bus', 'trailer', 'construction_vehicle', 'ambulance', 'police vehicle'], 'two_wheeler': ['motorcycle', 'bicycle'], 'human': ['adult pedestrian', 'child pedestrian', 'construction worker', 'police officier']}}}\n"
     ]
    }
   ],
   "source": [
    "import yaml\n",
    "\n",
    "# read ./config/config.yaml\n",
    "\n",
    "with open('./config/config.yaml', 'r') as file:\n",
    "    config = yaml.safe_load(file)\n",
    "\n",
    "print(config)"
   ]
  },
  {
   "cell_type": "code",
   "execution_count": 20,
   "metadata": {},
   "outputs": [
    {
     "data": {
      "text/plain": [
       "{'vehicle': ['car',\n",
       "  'truck',\n",
       "  'bendy bus',\n",
       "  'rigid bus',\n",
       "  'trailer',\n",
       "  'construction_vehicle',\n",
       "  'ambulance',\n",
       "  'police vehicle'],\n",
       " 'two_wheeler': ['motorcycle', 'bicycle'],\n",
       " 'human': ['adult pedestrian',\n",
       "  'child pedestrian',\n",
       "  'construction worker',\n",
       "  'police officier']}"
      ]
     },
     "execution_count": 20,
     "metadata": {},
     "output_type": "execute_result"
    }
   ],
   "source": [
    "config[\"nuscenes\"][\"class_mappings\"]"
   ]
  },
  {
   "cell_type": "code",
   "execution_count": 14,
   "metadata": {},
   "outputs": [
    {
     "data": {
      "text/plain": [
       "[{'name': 'GNN_layer_1',\n",
       "  'mlp_h': {'dim_lst': [64, 64],\n",
       "   'activation': 'relu',\n",
       "   'output_activation': 'none'},\n",
       "  'mlp_f': {'feat_dim': 32,\n",
       "   'hidden_dim_lst': [32, 32],\n",
       "   'activation': 'relu',\n",
       "   'output_activation': 'none'},\n",
       "  'mlp_g': {'dim_lst': [64, 64],\n",
       "   'activation': 'relu',\n",
       "   'output_activation': 'none'}},\n",
       " {'name': 'GNN_layer_2',\n",
       "  'mlp_h': {'dim_lst': [64, 64],\n",
       "   'activation': 'relu',\n",
       "   'output_activation': 'none'},\n",
       "  'mlp_f': {'feat_dim': 32,\n",
       "   'hidden_dim_lst': [32, 32],\n",
       "   'activation': 'relu',\n",
       "   'output_activation': 'none'},\n",
       "  'mlp_g': {'dim_lst': [64, 64],\n",
       "   'activation': 'relu',\n",
       "   'output_activation': 'none'}}]"
      ]
     },
     "execution_count": 14,
     "metadata": {},
     "output_type": "execute_result"
    }
   ],
   "source": [
    "config[\"GNNLayers\"]"
   ]
  },
  {
   "cell_type": "code",
   "execution_count": 17,
   "metadata": {},
   "outputs": [
    {
     "data": {
      "text/plain": [
       "GNN(\n",
       "  (layers): ModuleList(\n",
       "    (0): GNNLayer(\n",
       "      (mlph): MlpH(\n",
       "        (mlp): Sequential(\n",
       "          (0): Linear(in_features=64, out_features=64, bias=True)\n",
       "        )\n",
       "      )\n",
       "      (mlpg): MlpG(\n",
       "        (mlp): Sequential(\n",
       "          (0): Linear(in_features=64, out_features=64, bias=True)\n",
       "        )\n",
       "      )\n",
       "      (conv): PointGNNConv(\n",
       "        mlp_h=MlpH(\n",
       "        (mlp): Sequential(\n",
       "          (0): Linear(in_features=64, out_features=64, bias=True)\n",
       "        )\n",
       "      ),\n",
       "        mlp_f=<gnn.MlpF object at 0x7fbb599f8a30>,\n",
       "        mlp_g=MlpG(\n",
       "        (mlp): Sequential(\n",
       "          (0): Linear(in_features=64, out_features=64, bias=True)\n",
       "        )\n",
       "      ),\n",
       "      )\n",
       "    )\n",
       "    (1): GNNLayer(\n",
       "      (mlph): MlpH(\n",
       "        (mlp): Sequential(\n",
       "          (0): Linear(in_features=64, out_features=64, bias=True)\n",
       "        )\n",
       "      )\n",
       "      (mlpg): MlpG(\n",
       "        (mlp): Sequential(\n",
       "          (0): Linear(in_features=64, out_features=64, bias=True)\n",
       "        )\n",
       "      )\n",
       "      (conv): PointGNNConv(\n",
       "        mlp_h=MlpH(\n",
       "        (mlp): Sequential(\n",
       "          (0): Linear(in_features=64, out_features=64, bias=True)\n",
       "        )\n",
       "      ),\n",
       "        mlp_f=<gnn.MlpF object at 0x7fbb598e5370>,\n",
       "        mlp_g=MlpG(\n",
       "        (mlp): Sequential(\n",
       "          (0): Linear(in_features=64, out_features=64, bias=True)\n",
       "        )\n",
       "      ),\n",
       "      )\n",
       "    )\n",
       "  )\n",
       ")"
      ]
     },
     "execution_count": 17,
     "metadata": {},
     "output_type": "execute_result"
    }
   ],
   "source": [
    "from gnn import GNN\n",
    "\n",
    "gnn = GNN(config[\"GNNLayers\"])\n",
    "gnn"
   ]
  },
  {
   "cell_type": "code",
   "execution_count": 2,
   "metadata": {},
   "outputs": [
    {
     "data": {
      "text/plain": [
       "[(-1, -2, -3),\n",
       " (-1, -2, 3),\n",
       " (-1, 2, -3),\n",
       " (-1, 2, 3),\n",
       " (1, -2, -3),\n",
       " (1, -2, 3),\n",
       " (1, 2, -3),\n",
       " (1, 2, 3)]"
      ]
     },
     "execution_count": 2,
     "metadata": {},
     "output_type": "execute_result"
    }
   ],
   "source": [
    "import itertools\n",
    "\n",
    "list(itertools.product([-1,1], [-2,2],[-3,3]))"
   ]
  },
  {
   "cell_type": "code",
   "execution_count": 3,
   "metadata": {},
   "outputs": [
    {
     "data": {
      "text/plain": [
       "array([[1],\n",
       "       [2],\n",
       "       [3]])"
      ]
     },
     "execution_count": 3,
     "metadata": {},
     "output_type": "execute_result"
    }
   ],
   "source": [
    "import numpy as np\n",
    "np.array([[1,2,3]]).T"
   ]
  },
  {
   "cell_type": "code",
   "execution_count": 4,
   "metadata": {},
   "outputs": [
    {
     "data": {
      "text/plain": [
       "array([ True,  True,  True, False, False])"
      ]
     },
     "execution_count": 4,
     "metadata": {},
     "output_type": "execute_result"
    }
   ],
   "source": [
    "a = np.array([1,2,3,4,5])\n",
    "b = (a>=1) & (a<=3)\n",
    "b"
   ]
  },
  {
   "cell_type": "code",
   "execution_count": 5,
   "metadata": {},
   "outputs": [
    {
     "data": {
      "text/plain": [
       "array([1, 2, 3, 4])"
      ]
     },
     "execution_count": 5,
     "metadata": {},
     "output_type": "execute_result"
    }
   ],
   "source": [
    "np.array([[1,2,3,4]]).reshape(-1)"
   ]
  }
 ],
 "metadata": {
  "kernelspec": {
   "display_name": "torch",
   "language": "python",
   "name": "python3"
  },
  "language_info": {
   "codemirror_mode": {
    "name": "ipython",
    "version": 3
   },
   "file_extension": ".py",
   "mimetype": "text/x-python",
   "name": "python",
   "nbconvert_exporter": "python",
   "pygments_lexer": "ipython3",
   "version": "3.8.11"
  }
 },
 "nbformat": 4,
 "nbformat_minor": 2
}
