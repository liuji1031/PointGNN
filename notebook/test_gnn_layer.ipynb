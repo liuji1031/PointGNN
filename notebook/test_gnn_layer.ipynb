{
 "cells": [
  {
   "cell_type": "code",
   "execution_count": 1,
   "metadata": {},
   "outputs": [],
   "source": [
    "from util import build_model, build_dataset\n",
    "\n",
    "model = build_model(\"notebook/test_gnn_layer.yaml\")"
   ]
  },
  {
   "cell_type": "code",
   "execution_count": 2,
   "metadata": {},
   "outputs": [
    {
     "name": "stdout",
     "output_type": "stream",
     "text": [
      "tensor([[ 1.4769,  0.0254,  0.2061,  0.0627],\n",
      "        [ 1.7987, -0.1146, -1.2711, -0.4380],\n",
      "        [ 1.9565, -1.2211,  1.0900,  1.9067],\n",
      "        [-0.0459, -0.3061, -0.0227, -1.2791],\n",
      "        [ 0.2639, -0.0965,  1.0042,  0.7913],\n",
      "        [-0.2426,  0.7480, -1.2020,  0.6286],\n",
      "        [-0.2116,  1.1663, -1.9512,  0.0780],\n",
      "        [ 0.5046, -0.3714,  1.3628,  0.4528],\n",
      "        [-1.2952, -0.0308,  0.4230,  0.7094],\n",
      "        [-0.0551, -0.3454,  0.6457, -0.7107]])\n"
     ]
    }
   ],
   "source": [
    "import torch\n",
    "from torch_geometric.nn import knn_graph\n",
    "\n",
    "x = torch.randn(10, 4)\n",
    "pos = torch.randn(10, 3)\n",
    "edge_index = knn_graph(pos, k=1, batch=None, loop=False)\n",
    "print(x)"
   ]
  },
  {
   "cell_type": "code",
   "execution_count": 3,
   "metadata": {},
   "outputs": [
    {
     "data": {
      "text/plain": [
       "tensor([[ 2.4829, -0.8362,  0.0212, -1.9241],\n",
       "        [ 1.3382, -0.9763, -1.7149, -1.4751],\n",
       "        [ 1.4961, -1.2545,  0.6462,  2.3398],\n",
       "        [-0.5063, -0.8854,  2.8819, -1.6630],\n",
       "        [-0.1965, -0.7899,  1.3907,  0.4714],\n",
       "        [-0.7031,  0.7146, -1.6457,  1.0617],\n",
       "        [-0.6720,  0.8090, -2.3949, -0.3486],\n",
       "        [ 3.1824,  2.3056,  0.9191,  1.5192],\n",
       "        [-1.7556,  0.5919, -0.0208,  2.3497],\n",
       "        [-0.5156, -0.2250,  0.2019, -0.1292]], grad_fn=<AddBackward0>)"
      ]
     },
     "execution_count": 3,
     "metadata": {},
     "output_type": "execute_result"
    }
   ],
   "source": [
    "out = model(x,pos, edge_index)\n",
    "out"
   ]
  },
  {
   "cell_type": "code",
   "execution_count": 4,
   "metadata": {},
   "outputs": [
    {
     "data": {
      "text/plain": [
       "<matplotlib.image.AxesImage at 0x7f2950d7f580>"
      ]
     },
     "execution_count": 4,
     "metadata": {},
     "output_type": "execute_result"
    },
    {
     "data": {
      "image/png": "[encoded data removed]",
      "text/plain": [
       "<Figure size 640x480 with 1 Axes>"
      ]
     },
     "metadata": {},
     "output_type": "display_data"
    }
   ],
   "source": [
    "x_np = x.detach().numpy()\n",
    "out_np = out.detach().numpy()\n",
    "\n",
    "import matplotlib.pyplot as plt\n",
    "import numpy as np\n",
    "plt.imshow(np.hstack([np.corrcoef(x_np), np.corrcoef(out_np)]))"
   ]
  }
 ],
 "metadata": {
  "kernelspec": {
   "display_name": ".venv",
   "language": "python",
   "name": "python3"
  },
  "language_info": {
   "codemirror_mode": {
    "name": "ipython",
    "version": 3
   },
   "file_extension": ".py",
   "mimetype": "text/x-python",
   "name": "python",
   "nbconvert_exporter": "python",
   "pygments_lexer": "ipython3",
   "version": "3.10.16"
  }
 },
 "nbformat": 4,
 "nbformat_minor": 2
}
