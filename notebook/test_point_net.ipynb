{
 "cells": [
  {
   "cell_type": "code",
   "execution_count": 1,
   "metadata": {},
   "outputs": [
    {
     "name": "stdout",
     "output_type": "stream",
     "text": [
      "GeometricShapes(40)\n"
     ]
    }
   ],
   "source": [
    "import torch\n",
    "from torch_geometric.datasets import GeometricShapes\n",
    "\n",
    "dataset = GeometricShapes(root='data/GeometricShapes')\n",
    "print(dataset)"
   ]
  },
  {
   "cell_type": "code",
   "execution_count": 2,
   "metadata": {},
   "outputs": [],
   "source": [
    "import torch\n",
    "from torch_geometric.transforms import SamplePoints\n",
    "\n",
    "torch.manual_seed(42)\n",
    "\n",
    "dataset.transform = SamplePoints(num=256)"
   ]
  },
  {
   "cell_type": "code",
   "execution_count": 3,
   "metadata": {},
   "outputs": [
    {
     "data": {
      "text/plain": [
       "ComposableModel(\n",
       "  (point_net): PointNet(\n",
       "    (conv1): PointNetLayer()\n",
       "    (conv2): PointNetLayer()\n",
       "    (classifier): Linear(in_features=32, out_features=40, bias=True)\n",
       "  )\n",
       ")"
      ]
     },
     "execution_count": 3,
     "metadata": {},
     "output_type": "execute_result"
    }
   ],
   "source": [
    "# load model\n",
    "from util import read_config\n",
    "from model import ComposableModel\n",
    "model_cfg = read_config(\"notebook/point_net.yaml\")\n",
    "model = ComposableModel(\"point_net\", model_cfg.modules)\n",
    "model"
   ]
  },
  {
   "cell_type": "code",
   "execution_count": 4,
   "metadata": {},
   "outputs": [
    {
     "data": {
      "text/plain": [
       "True"
      ]
     },
     "execution_count": 4,
     "metadata": {},
     "output_type": "execute_result"
    }
   ],
   "source": [
    "model.point_net.return_dict"
   ]
  },
  {
   "cell_type": "code",
   "execution_count": 5,
   "metadata": {},
   "outputs": [
    {
     "name": "stdout",
     "output_type": "stream",
     "text": [
      "Epoch: 01, Loss: 3.7417, Test Accuracy: 0.0500\n",
      "Epoch: 02, Loss: 3.6927, Test Accuracy: 0.0250\n",
      "Epoch: 03, Loss: 3.6678, Test Accuracy: 0.0500\n",
      "Epoch: 04, Loss: 3.6418, Test Accuracy: 0.0500\n",
      "Epoch: 05, Loss: 3.6065, Test Accuracy: 0.0250\n",
      "Epoch: 06, Loss: 3.5239, Test Accuracy: 0.0250\n",
      "Epoch: 07, Loss: 3.4593, Test Accuracy: 0.0500\n",
      "Epoch: 08, Loss: 3.4031, Test Accuracy: 0.0750\n",
      "Epoch: 09, Loss: 3.3605, Test Accuracy: 0.1250\n",
      "Epoch: 10, Loss: 3.2835, Test Accuracy: 0.1000\n",
      "Epoch: 11, Loss: 3.2149, Test Accuracy: 0.1000\n",
      "Epoch: 12, Loss: 3.1579, Test Accuracy: 0.1500\n",
      "Epoch: 13, Loss: 3.0477, Test Accuracy: 0.2000\n",
      "Epoch: 14, Loss: 2.9329, Test Accuracy: 0.2250\n",
      "Epoch: 15, Loss: 2.8375, Test Accuracy: 0.2500\n",
      "Epoch: 16, Loss: 2.7525, Test Accuracy: 0.3000\n",
      "Epoch: 17, Loss: 2.4533, Test Accuracy: 0.3000\n",
      "Epoch: 18, Loss: 2.3596, Test Accuracy: 0.3500\n",
      "Epoch: 19, Loss: 2.1281, Test Accuracy: 0.4000\n",
      "Epoch: 20, Loss: 1.9795, Test Accuracy: 0.5250\n",
      "Epoch: 21, Loss: 1.8829, Test Accuracy: 0.3500\n",
      "Epoch: 22, Loss: 1.8350, Test Accuracy: 0.4500\n",
      "Epoch: 23, Loss: 1.7062, Test Accuracy: 0.3500\n",
      "Epoch: 24, Loss: 1.8547, Test Accuracy: 0.4500\n",
      "Epoch: 25, Loss: 1.6342, Test Accuracy: 0.4750\n",
      "Epoch: 26, Loss: 1.7353, Test Accuracy: 0.5500\n",
      "Epoch: 27, Loss: 1.6452, Test Accuracy: 0.6500\n",
      "Epoch: 28, Loss: 1.4958, Test Accuracy: 0.5500\n",
      "Epoch: 29, Loss: 1.3856, Test Accuracy: 0.5500\n",
      "Epoch: 30, Loss: 1.7604, Test Accuracy: 0.5250\n",
      "Epoch: 31, Loss: 1.4913, Test Accuracy: 0.5000\n",
      "Epoch: 32, Loss: 1.9518, Test Accuracy: 0.5750\n",
      "Epoch: 33, Loss: 2.0001, Test Accuracy: 0.5250\n",
      "Epoch: 34, Loss: 1.6311, Test Accuracy: 0.6000\n",
      "Epoch: 35, Loss: 1.4122, Test Accuracy: 0.6000\n",
      "Epoch: 36, Loss: 1.2758, Test Accuracy: 0.5500\n",
      "Epoch: 37, Loss: 1.2253, Test Accuracy: 0.6500\n",
      "Epoch: 38, Loss: 1.1369, Test Accuracy: 0.6500\n",
      "Epoch: 39, Loss: 1.0710, Test Accuracy: 0.7250\n",
      "Epoch: 40, Loss: 1.0586, Test Accuracy: 0.7000\n",
      "Epoch: 41, Loss: 0.9271, Test Accuracy: 0.7250\n",
      "Epoch: 42, Loss: 0.9654, Test Accuracy: 0.7000\n",
      "Epoch: 43, Loss: 0.8776, Test Accuracy: 0.7750\n",
      "Epoch: 44, Loss: 0.8984, Test Accuracy: 0.6500\n",
      "Epoch: 45, Loss: 0.8316, Test Accuracy: 0.8000\n",
      "Epoch: 46, Loss: 1.0336, Test Accuracy: 0.7500\n",
      "Epoch: 47, Loss: 0.9003, Test Accuracy: 0.7250\n",
      "Epoch: 48, Loss: 0.9741, Test Accuracy: 0.7250\n",
      "Epoch: 49, Loss: 0.9936, Test Accuracy: 0.7250\n",
      "Epoch: 50, Loss: 0.8666, Test Accuracy: 0.7500\n"
     ]
    }
   ],
   "source": [
    "from torch_geometric.loader import DataLoader\n",
    "\n",
    "train_dataset = GeometricShapes(root='data/GeometricShapes', train=True,\n",
    "                                transform=SamplePoints(128))\n",
    "test_dataset = GeometricShapes(root='data/GeometricShapes', train=False,\n",
    "                               transform=SamplePoints(128))\n",
    "\n",
    "\n",
    "train_loader = DataLoader(train_dataset, batch_size=10, shuffle=True)\n",
    "test_loader = DataLoader(test_dataset, batch_size=10)\n",
    "\n",
    "optimizer = torch.optim.Adam(model.parameters(), lr=0.01)\n",
    "criterion = torch.nn.CrossEntropyLoss()  # Define loss criterion.\n",
    "\n",
    "def train(model, optimizer, loader):\n",
    "    model.train()\n",
    "\n",
    "    total_loss = 0\n",
    "    for data in loader:\n",
    "        optimizer.zero_grad()  # Clear gradients.\n",
    "        logits = model(data.pos, data.batch)[\"x\"]  # Forward pass.\n",
    "        loss = criterion(logits, data.y)  # Loss computation.\n",
    "        loss.backward()  # Backward pass.\n",
    "        optimizer.step()  # Update model parameters.\n",
    "        total_loss += loss.item() * data.num_graphs\n",
    "\n",
    "    return total_loss / len(train_loader.dataset)\n",
    "\n",
    "\n",
    "@torch.no_grad()\n",
    "def test(model, loader):\n",
    "    model.eval()\n",
    "\n",
    "    total_correct = 0\n",
    "    for data in loader:\n",
    "        logits = model(data.pos, data.batch)[\"x\"]\n",
    "        pred = logits.argmax(dim=-1)\n",
    "        total_correct += int((pred == data.y).sum())\n",
    "\n",
    "    return total_correct / len(loader.dataset)\n",
    "\n",
    "for epoch in range(1, 51):\n",
    "    loss = train(model, optimizer, train_loader)\n",
    "    test_acc = test(model, test_loader)\n",
    "    print(f'Epoch: {epoch:02d}, Loss: {loss:.4f}, Test Accuracy: {test_acc:.4f}')"
   ]
  },
  {
   "cell_type": "code",
   "execution_count": null,
   "metadata": {},
   "outputs": [],
   "source": []
  }
 ],
 "metadata": {
  "kernelspec": {
   "display_name": ".venv",
   "language": "python",
   "name": "python3"
  },
  "language_info": {
   "codemirror_mode": {
    "name": "ipython",
    "version": 3
   },
   "file_extension": ".py",
   "mimetype": "text/x-python",
   "name": "python",
   "nbconvert_exporter": "python",
   "pygments_lexer": "ipython3",
   "version": "3.10.16"
  }
 },
 "nbformat": 4,
 "nbformat_minor": 2
}
